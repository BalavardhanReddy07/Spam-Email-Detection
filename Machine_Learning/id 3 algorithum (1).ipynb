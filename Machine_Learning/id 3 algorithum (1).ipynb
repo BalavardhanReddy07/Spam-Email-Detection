{
 "cells": [
  {
   "cell_type": "code",
   "execution_count": 2,
   "id": "bc63810d",
   "metadata": {},
   "outputs": [
    {
     "name": "stdout",
     "output_type": "stream",
     "text": [
      "Enter Outlook (Sunny/Overcast/Rain): Overcast\n",
      "Enter Temperature (Hot/Mild/Cool): Mild\n",
      "Enter Humidity (High/Normal): Normal\n",
      "Enter Wind (Weak/Strong): Strong\n",
      "\n",
      "Predicted PlayTennis for the new instance: No\n"
     ]
    }
   ],
   "source": [
    "import pandas as pd\n",
    "from sklearn.model_selection import train_test_split\n",
    "from sklearn.tree import DecisionTreeClassifier\n",
    "from sklearn.metrics import accuracy_score, classification_report\n",
    "\n",
    "# Sample dataset: PlayTennis\n",
    "data = {\n",
    "    'Outlook': ['Sunny', 'Sunny', 'Overcast', 'Rain', 'Rain', 'Rain', 'Overcast', 'Sunny', 'Sunny', 'Rain'],\n",
    "    'Temperature': ['Hot', 'Hot', 'Hot', 'Mild', 'Cool', 'Cool', 'Cool', 'Mild', 'Cool', 'Mild'],\n",
    "    'Humidity': ['High', 'High', 'High', 'High', 'Normal', 'Normal', 'Normal', 'High', 'Normal', 'Normal'],\n",
    "    'Wind': ['Weak', 'Strong', 'Weak', 'Weak', 'Weak', 'Strong', 'Strong', 'Weak', 'Weak', 'Weak'],\n",
    "    'PlayTennis': ['No', 'No', 'Yes', 'Yes', 'Yes', 'No', 'Yes', 'No', 'Yes', 'No']\n",
    "}\n",
    "\n",
    "df = pd.DataFrame(data)\n",
    "\n",
    "# Extract features and target variable\n",
    "X = pd.get_dummies(df.drop('PlayTennis', axis=1))  # Convert categorical variables to numerical\n",
    "y = df['PlayTennis']\n",
    "\n",
    "# Get user input for new instance\n",
    "new_outlook = input(\"Enter Outlook (Sunny/Overcast/Rain): \")\n",
    "new_temperature = input(\"Enter Temperature (Hot/Mild/Cool): \")\n",
    "new_humidity = input(\"Enter Humidity (High/Normal): \")\n",
    "new_wind = input(\"Enter Wind (Weak/Strong): \")\n",
    "\n",
    "# Create a new DataFrame for user input\n",
    "new_instance = pd.DataFrame({\n",
    "    'Outlook_Sunny': [1 if new_outlook == 'Sunny' else 0],\n",
    "    'Outlook_Overcast': [1 if new_outlook == 'Overcast' else 0],\n",
    "    'Outlook_Rain': [1 if new_outlook == 'Rain' else 0],\n",
    "    'Temperature_Hot': [1 if new_temperature == 'Hot' else 0],\n",
    "    'Temperature_Mild': [1 if new_temperature == 'Mild' else 0],\n",
    "    'Temperature_Cool': [1 if new_temperature == 'Cool' else 0],\n",
    "    'Humidity_High': [1 if new_humidity == 'High' else 0],\n",
    "    'Humidity_Normal': [1 if new_humidity == 'Normal' else 0],\n",
    "    'Wind_Weak': [1 if new_wind == 'Weak' else 0],\n",
    "    'Wind_Strong': [1 if new_wind == 'Strong' else 0],\n",
    "})\n",
    "\n",
    "# Train-test split\n",
    "X_train, X_test, y_train, y_test = train_test_split(X, y, test_size=0.2, random_state=42)\n",
    "\n",
    "# Build a Decision Tree classifier using scikit-learn\n",
    "dt_classifier = DecisionTreeClassifier(random_state=42)\n",
    "dt_classifier.fit(X_train, y_train)\n",
    "\n",
    "new_instance_pred1= dt_classifier.predict(X_test)\n",
    "\n",
    "# Make predictions on the new instance\n",
    "new_instance_pred = dt_classifier.predict(new_instance)\n",
    "print(f\"\\nPredicted PlayTennis for the new instance: {new_instance_pred[0]}\")\n"
   ]
  },
  {
   "cell_type": "code",
   "execution_count": null,
   "id": "0213d788",
   "metadata": {},
   "outputs": [],
   "source": [
    "https://towardsdatascience.com/decision-trees-for-classification-complete-example-d0bc17fcf1c2"
   ]
  }
 ],
 "metadata": {
  "kernelspec": {
   "display_name": "Python 3 (ipykernel)",
   "language": "python",
   "name": "python3"
  },
  "language_info": {
   "codemirror_mode": {
    "name": "ipython",
    "version": 3
   },
   "file_extension": ".py",
   "mimetype": "text/x-python",
   "name": "python",
   "nbconvert_exporter": "python",
   "pygments_lexer": "ipython3",
   "version": "3.9.7"
  }
 },
 "nbformat": 4,
 "nbformat_minor": 5
}
