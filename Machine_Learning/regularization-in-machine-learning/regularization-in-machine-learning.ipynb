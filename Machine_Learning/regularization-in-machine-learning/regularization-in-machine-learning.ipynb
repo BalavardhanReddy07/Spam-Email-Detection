{
 "cells": [
  {
   "cell_type": "markdown",
   "id": "85a85782",
   "metadata": {
    "papermill": {
     "duration": 0.042361,
     "end_time": "2021-12-22T19:07:37.877879",
     "exception": false,
     "start_time": "2021-12-22T19:07:37.835518",
     "status": "completed"
    },
    "tags": []
   },
   "source": [
    "### Regularization in Machine Learning"
   ]
  },
  {
   "cell_type": "markdown",
   "id": "11910490",
   "metadata": {
    "papermill": {
     "duration": 0.035764,
     "end_time": "2021-12-22T19:07:37.950117",
     "exception": false,
     "start_time": "2021-12-22T19:07:37.914353",
     "status": "completed"
    },
    "tags": []
   },
   "source": [
    "# what is regularization in ML\n",
    "\n",
    "- a technique to prevent the model from overfitting by adding extra information to it.\n",
    "- it maintain all variables or features in the model by reducing the magnitude of the variables. \n",
    "- Hence, it maintains accuracy as well as a generalization of the model.\n",
    "- In simple words, \"In regularization technique, we reduce the magnitude of the features by keeping the same number of features.\"\n",
    "- mainly regularizes or reduces the coefficient of features toward zero"
   ]
  },
  {
   "cell_type": "code",
   "execution_count": 1,
   "id": "646c8325",
   "metadata": {
    "execution": {
     "iopub.execute_input": "2021-12-22T19:07:38.029150Z",
     "iopub.status.busy": "2021-12-22T19:07:38.027353Z",
     "iopub.status.idle": "2021-12-22T19:07:38.032283Z",
     "shell.execute_reply": "2021-12-22T19:07:38.032799Z"
    },
    "papermill": {
     "duration": 0.046738,
     "end_time": "2021-12-22T19:07:38.033119",
     "exception": false,
     "start_time": "2021-12-22T19:07:37.986381",
     "status": "completed"
    },
    "tags": []
   },
   "outputs": [],
   "source": [
    "# Basics of regularization"
   ]
  },
  {
   "cell_type": "markdown",
   "id": "c3676748",
   "metadata": {
    "papermill": {
     "duration": 0.036146,
     "end_time": "2021-12-22T19:07:38.108836",
     "exception": false,
     "start_time": "2021-12-22T19:07:38.072690",
     "status": "completed"
    },
    "tags": []
   },
   "source": [
    "- a technique to prevent the model from overfitting by adding extra information to it.\n",
    "-  maintains accuracy as well as a generalization of the mode\n",
    "-  reduces the magnitude of the variables, hence maintain all variables or features\n",
    "-  In simple words, \"In regularization technique, we reduce the magnitude of the features by keeping the same number of features\"\n",
    "- by adding a penalty or complexity term to the complex model"
   ]
  },
  {
   "cell_type": "code",
   "execution_count": 2,
   "id": "275c826f",
   "metadata": {
    "execution": {
     "iopub.execute_input": "2021-12-22T19:07:38.185704Z",
     "iopub.status.busy": "2021-12-22T19:07:38.184715Z",
     "iopub.status.idle": "2021-12-22T19:07:38.188117Z",
     "shell.execute_reply": "2021-12-22T19:07:38.188755Z"
    },
    "papermill": {
     "duration": 0.043564,
     "end_time": "2021-12-22T19:07:38.188919",
     "exception": false,
     "start_time": "2021-12-22T19:07:38.145355",
     "status": "completed"
    },
    "tags": []
   },
   "outputs": [],
   "source": [
    "# How does Regularization Work?"
   ]
  },
  {
   "cell_type": "markdown",
   "id": "b8aea070",
   "metadata": {
    "papermill": {
     "duration": 0.036276,
     "end_time": "2021-12-22T19:07:38.261804",
     "exception": false,
     "start_time": "2021-12-22T19:07:38.225528",
     "status": "completed"
    },
    "tags": []
   },
   "source": [
    "Let's consider the simple linear regression equation:\n",
    "y= β0+β1x1+β2x2+β3x3+⋯+βnxn +b\n",
    "\n",
    "Y represents the value to be predicted\n",
    "X1, X2, …Xn are the features for Y.\n",
    "\n",
    "β0,β1,…..βn are the weights or magnitude\n",
    "b represents the intercept.\n",
    "\n",
    "The loss function for the linear regression is called as RSS or Residual sum of squares.\n",
    "\n",
    "Techniques of Regularization:\n",
    "• Ridge Regression\n",
    "• Lasso Regression"
   ]
  },
  {
   "cell_type": "code",
   "execution_count": 3,
   "id": "dfac9cb6",
   "metadata": {
    "execution": {
     "iopub.execute_input": "2021-12-22T19:07:38.338525Z",
     "iopub.status.busy": "2021-12-22T19:07:38.337603Z",
     "iopub.status.idle": "2021-12-22T19:07:38.342423Z",
     "shell.execute_reply": "2021-12-22T19:07:38.343040Z"
    },
    "papermill": {
     "duration": 0.04495,
     "end_time": "2021-12-22T19:07:38.343227",
     "exception": false,
     "start_time": "2021-12-22T19:07:38.298277",
     "status": "completed"
    },
    "tags": []
   },
   "outputs": [],
   "source": [
    "# Ridge regression:"
   ]
  },
  {
   "cell_type": "markdown",
   "id": "8246b5e3",
   "metadata": {
    "papermill": {
     "duration": 0.036138,
     "end_time": "2021-12-22T19:07:38.416009",
     "exception": false,
     "start_time": "2021-12-22T19:07:38.379871",
     "status": "completed"
    },
    "tags": []
   },
   "source": [
    "- a small amount of bias is added\n",
    "- reduces the complexity of the model, \n",
    "- also called L2 regularization\n",
    "- cost function is altered by adding the penalty term to it\n",
    "- amount of bias added to the model is called Ridge Regression penalty.."
   ]
  },
  {
   "cell_type": "markdown",
   "id": "c40b82bb",
   "metadata": {
    "papermill": {
     "duration": 0.036398,
     "end_time": "2021-12-22T19:07:38.488992",
     "exception": false,
     "start_time": "2021-12-22T19:07:38.452594",
     "status": "completed"
    },
    "tags": []
   },
   "source": [
    "From the cost function of Ridge Regression we can see that if the values of λ tends to zero, the equation becomes the cost function of the linear regression model..\n",
    "\n",
    "A general linear or polynomial regression will fail if there is high collinearity between the independent variables, so to solve such problems, Ridge regression can be used."
   ]
  },
  {
   "cell_type": "code",
   "execution_count": 4,
   "id": "91722b0d",
   "metadata": {
    "execution": {
     "iopub.execute_input": "2021-12-22T19:07:38.566612Z",
     "iopub.status.busy": "2021-12-22T19:07:38.565649Z",
     "iopub.status.idle": "2021-12-22T19:07:38.568855Z",
     "shell.execute_reply": "2021-12-22T19:07:38.569391Z"
    },
    "papermill": {
     "duration": 0.043271,
     "end_time": "2021-12-22T19:07:38.569551",
     "exception": false,
     "start_time": "2021-12-22T19:07:38.526280",
     "status": "completed"
    },
    "tags": []
   },
   "outputs": [],
   "source": [
    "# Lasso regression"
   ]
  },
  {
   "cell_type": "markdown",
   "id": "e18ae18a",
   "metadata": {
    "papermill": {
     "duration": 0.036278,
     "end_time": "2021-12-22T19:07:38.642318",
     "exception": false,
     "start_time": "2021-12-22T19:07:38.606040",
     "status": "completed"
    },
    "tags": []
   },
   "source": [
    "Lasso Regression:\n",
    "- stands for Least Absolute Shrinkage and Selection Operator\n",
    "- also called L1 regularization\n",
    "- reduces the complexity of the model\n",
    "- similar to the Ridge Regression except that the penalty term contains only the absolute weights instead of a square of weights\n",
    "- Since it takes absolute values, hence, it can shrink the slope to zero\n",
    "- whereas Ridge Regression can only shrink it near to 0.\n",
    "- Some of the features are completely neglected for model evaluation\n",
    "- hence Lasso helps in reducing overfitting and also feature selection"
   ]
  },
  {
   "cell_type": "markdown",
   "id": "1e22ea3d",
   "metadata": {
    "papermill": {
     "duration": 0.035978,
     "end_time": "2021-12-22T19:07:38.714585",
     "exception": false,
     "start_time": "2021-12-22T19:07:38.678607",
     "status": "completed"
    },
    "tags": []
   },
   "source": [
    "Lasso Regression adds “absolute value of magnitude” of coefficient as penalty term to the loss function(L). \n",
    "Ridge regression adds “squared magnitude” of coefficient as penalty term to the loss function(L)."
   ]
  },
  {
   "cell_type": "code",
   "execution_count": 5,
   "id": "5dfc333a",
   "metadata": {
    "execution": {
     "iopub.execute_input": "2021-12-22T19:07:38.791141Z",
     "iopub.status.busy": "2021-12-22T19:07:38.790203Z",
     "iopub.status.idle": "2021-12-22T19:07:38.793467Z",
     "shell.execute_reply": "2021-12-22T19:07:38.794295Z"
    },
    "papermill": {
     "duration": 0.043469,
     "end_time": "2021-12-22T19:07:38.794464",
     "exception": false,
     "start_time": "2021-12-22T19:07:38.750995",
     "status": "completed"
    },
    "tags": []
   },
   "outputs": [],
   "source": [
    "### Implementation of Lasso Regression"
   ]
  },
  {
   "cell_type": "code",
   "execution_count": 6,
   "id": "f1be8d74",
   "metadata": {
    "execution": {
     "iopub.execute_input": "2021-12-22T19:07:38.871418Z",
     "iopub.status.busy": "2021-12-22T19:07:38.870473Z",
     "iopub.status.idle": "2021-12-22T19:07:38.879330Z",
     "shell.execute_reply": "2021-12-22T19:07:38.879908Z"
    },
    "papermill": {
     "duration": 0.048782,
     "end_time": "2021-12-22T19:07:38.880083",
     "exception": false,
     "start_time": "2021-12-22T19:07:38.831301",
     "status": "completed"
    },
    "tags": []
   },
   "outputs": [],
   "source": [
    "import pandas as pd\n",
    "import numpy as np\n",
    "import matplotlib.pyplot as plt"
   ]
  },
  {
   "cell_type": "markdown",
   "id": "ab060d3e",
   "metadata": {
    "papermill": {
     "duration": 0.036029,
     "end_time": "2021-12-22T19:07:38.952464",
     "exception": false,
     "start_time": "2021-12-22T19:07:38.916435",
     "status": "completed"
    },
    "tags": []
   },
   "source": [
    "We are going to use the Boston house prediction dataset, that is an inbuilt dataset in sklearn"
   ]
  },
  {
   "cell_type": "code",
   "execution_count": 7,
   "id": "e06717e2",
   "metadata": {
    "execution": {
     "iopub.execute_input": "2021-12-22T19:07:39.030301Z",
     "iopub.status.busy": "2021-12-22T19:07:39.029298Z",
     "iopub.status.idle": "2021-12-22T19:07:40.031602Z",
     "shell.execute_reply": "2021-12-22T19:07:40.032128Z"
    },
    "papermill": {
     "duration": 1.043508,
     "end_time": "2021-12-22T19:07:40.032329",
     "exception": false,
     "start_time": "2021-12-22T19:07:38.988821",
     "status": "completed"
    },
    "tags": []
   },
   "outputs": [],
   "source": [
    "from sklearn.datasets import load_boston\n",
    "boston=load_boston()"
   ]
  },
  {
   "cell_type": "code",
   "execution_count": 8,
   "id": "9e81cdf1",
   "metadata": {
    "execution": {
     "iopub.execute_input": "2021-12-22T19:07:40.116864Z",
     "iopub.status.busy": "2021-12-22T19:07:40.116015Z",
     "iopub.status.idle": "2021-12-22T19:07:40.119134Z",
     "shell.execute_reply": "2021-12-22T19:07:40.119605Z"
    },
    "papermill": {
     "duration": 0.048494,
     "end_time": "2021-12-22T19:07:40.119782",
     "exception": false,
     "start_time": "2021-12-22T19:07:40.071288",
     "status": "completed"
    },
    "tags": []
   },
   "outputs": [
    {
     "data": {
      "text/plain": [
       "['DESCR', 'data', 'feature_names', 'filename', 'target']"
      ]
     },
     "execution_count": 8,
     "metadata": {},
     "output_type": "execute_result"
    }
   ],
   "source": [
    "# Getting attributes of boston\n",
    "dir(boston)"
   ]
  },
  {
   "cell_type": "code",
   "execution_count": 9,
   "id": "25ce3d97",
   "metadata": {
    "execution": {
     "iopub.execute_input": "2021-12-22T19:07:40.198755Z",
     "iopub.status.busy": "2021-12-22T19:07:40.198029Z",
     "iopub.status.idle": "2021-12-22T19:07:40.202579Z",
     "shell.execute_reply": "2021-12-22T19:07:40.203158Z"
    },
    "papermill": {
     "duration": 0.045441,
     "end_time": "2021-12-22T19:07:40.203322",
     "exception": false,
     "start_time": "2021-12-22T19:07:40.157881",
     "status": "completed"
    },
    "tags": []
   },
   "outputs": [
    {
     "data": {
      "text/plain": [
       "\".. _boston_dataset:\\n\\nBoston house prices dataset\\n---------------------------\\n\\n**Data Set Characteristics:**  \\n\\n    :Number of Instances: 506 \\n\\n    :Number of Attributes: 13 numeric/categorical predictive. Median Value (attribute 14) is usually the target.\\n\\n    :Attribute Information (in order):\\n        - CRIM     per capita crime rate by town\\n        - ZN       proportion of residential land zoned for lots over 25,000 sq.ft.\\n        - INDUS    proportion of non-retail business acres per town\\n        - CHAS     Charles River dummy variable (= 1 if tract bounds river; 0 otherwise)\\n        - NOX      nitric oxides concentration (parts per 10 million)\\n        - RM       average number of rooms per dwelling\\n        - AGE      proportion of owner-occupied units built prior to 1940\\n        - DIS      weighted distances to five Boston employment centres\\n        - RAD      index of accessibility to radial highways\\n        - TAX      full-value property-tax rate per $10,000\\n        - PTRATIO  pupil-teacher ratio by town\\n        - B        1000(Bk - 0.63)^2 where Bk is the proportion of blacks by town\\n        - LSTAT    % lower status of the population\\n        - MEDV     Median value of owner-occupied homes in $1000's\\n\\n    :Missing Attribute Values: None\\n\\n    :Creator: Harrison, D. and Rubinfeld, D.L.\\n\\nThis is a copy of UCI ML housing dataset.\\nhttps://archive.ics.uci.edu/ml/machine-learning-databases/housing/\\n\\n\\nThis dataset was taken from the StatLib library which is maintained at Carnegie Mellon University.\\n\\nThe Boston house-price data of Harrison, D. and Rubinfeld, D.L. 'Hedonic\\nprices and the demand for clean air', J. Environ. Economics & Management,\\nvol.5, 81-102, 1978.   Used in Belsley, Kuh & Welsch, 'Regression diagnostics\\n...', Wiley, 1980.   N.B. Various transformations are used in the table on\\npages 244-261 of the latter.\\n\\nThe Boston house-price data has been used in many machine learning papers that address regression\\nproblems.   \\n     \\n.. topic:: References\\n\\n   - Belsley, Kuh & Welsch, 'Regression diagnostics: Identifying Influential Data and Sources of Collinearity', Wiley, 1980. 244-261.\\n   - Quinlan,R. (1993). Combining Instance-Based and Model-Based Learning. In Proceedings on the Tenth International Conference of Machine Learning, 236-243, University of Massachusetts, Amherst. Morgan Kaufmann.\\n\""
      ]
     },
     "execution_count": 9,
     "metadata": {},
     "output_type": "execute_result"
    }
   ],
   "source": [
    "# printing description\n",
    "boston.DESCR"
   ]
  },
  {
   "cell_type": "code",
   "execution_count": 10,
   "id": "8ebb5684",
   "metadata": {
    "execution": {
     "iopub.execute_input": "2021-12-22T19:07:40.288364Z",
     "iopub.status.busy": "2021-12-22T19:07:40.287693Z",
     "iopub.status.idle": "2021-12-22T19:07:40.290236Z",
     "shell.execute_reply": "2021-12-22T19:07:40.290736Z"
    },
    "papermill": {
     "duration": 0.048769,
     "end_time": "2021-12-22T19:07:40.290894",
     "exception": false,
     "start_time": "2021-12-22T19:07:40.242125",
     "status": "completed"
    },
    "tags": []
   },
   "outputs": [
    {
     "data": {
      "text/plain": [
       "array([[6.3200e-03, 1.8000e+01, 2.3100e+00, ..., 1.5300e+01, 3.9690e+02,\n",
       "        4.9800e+00],\n",
       "       [2.7310e-02, 0.0000e+00, 7.0700e+00, ..., 1.7800e+01, 3.9690e+02,\n",
       "        9.1400e+00],\n",
       "       [2.7290e-02, 0.0000e+00, 7.0700e+00, ..., 1.7800e+01, 3.9283e+02,\n",
       "        4.0300e+00],\n",
       "       ...,\n",
       "       [6.0760e-02, 0.0000e+00, 1.1930e+01, ..., 2.1000e+01, 3.9690e+02,\n",
       "        5.6400e+00],\n",
       "       [1.0959e-01, 0.0000e+00, 1.1930e+01, ..., 2.1000e+01, 3.9345e+02,\n",
       "        6.4800e+00],\n",
       "       [4.7410e-02, 0.0000e+00, 1.1930e+01, ..., 2.1000e+01, 3.9690e+02,\n",
       "        7.8800e+00]])"
      ]
     },
     "execution_count": 10,
     "metadata": {},
     "output_type": "execute_result"
    }
   ],
   "source": [
    "# Printing \"data\" attributes of the dataset, its our input \n",
    "boston.data"
   ]
  },
  {
   "cell_type": "code",
   "execution_count": 11,
   "id": "2931de15",
   "metadata": {
    "execution": {
     "iopub.execute_input": "2021-12-22T19:07:40.371336Z",
     "iopub.status.busy": "2021-12-22T19:07:40.370379Z",
     "iopub.status.idle": "2021-12-22T19:07:40.376451Z",
     "shell.execute_reply": "2021-12-22T19:07:40.375892Z"
    },
    "papermill": {
     "duration": 0.047497,
     "end_time": "2021-12-22T19:07:40.376583",
     "exception": false,
     "start_time": "2021-12-22T19:07:40.329086",
     "status": "completed"
    },
    "tags": []
   },
   "outputs": [
    {
     "data": {
      "text/plain": [
       "array(['CRIM', 'ZN', 'INDUS', 'CHAS', 'NOX', 'RM', 'AGE', 'DIS', 'RAD',\n",
       "       'TAX', 'PTRATIO', 'B', 'LSTAT'], dtype='<U7')"
      ]
     },
     "execution_count": 11,
     "metadata": {},
     "output_type": "execute_result"
    }
   ],
   "source": [
    "# Getting features names of the dataset\n",
    "boston.feature_names"
   ]
  },
  {
   "cell_type": "code",
   "execution_count": 12,
   "id": "83bce137",
   "metadata": {
    "execution": {
     "iopub.execute_input": "2021-12-22T19:07:40.460329Z",
     "iopub.status.busy": "2021-12-22T19:07:40.459487Z",
     "iopub.status.idle": "2021-12-22T19:07:40.462647Z",
     "shell.execute_reply": "2021-12-22T19:07:40.463197Z"
    },
    "papermill": {
     "duration": 0.048007,
     "end_time": "2021-12-22T19:07:40.463364",
     "exception": false,
     "start_time": "2021-12-22T19:07:40.415357",
     "status": "completed"
    },
    "tags": []
   },
   "outputs": [
    {
     "data": {
      "text/plain": [
       "array([24. , 21.6, 34.7, 33.4, 36.2, 28.7, 22.9, 27.1, 16.5, 18.9])"
      ]
     },
     "execution_count": 12,
     "metadata": {},
     "output_type": "execute_result"
    }
   ],
   "source": [
    "# Printing first 10 values of target \n",
    "boston.target[0:10]"
   ]
  },
  {
   "cell_type": "code",
   "execution_count": 13,
   "id": "301b1ea1",
   "metadata": {
    "execution": {
     "iopub.execute_input": "2021-12-22T19:07:40.545474Z",
     "iopub.status.busy": "2021-12-22T19:07:40.544525Z",
     "iopub.status.idle": "2021-12-22T19:07:40.550270Z",
     "shell.execute_reply": "2021-12-22T19:07:40.550774Z"
    },
    "papermill": {
     "duration": 0.048484,
     "end_time": "2021-12-22T19:07:40.550956",
     "exception": false,
     "start_time": "2021-12-22T19:07:40.502472",
     "status": "completed"
    },
    "tags": []
   },
   "outputs": [],
   "source": [
    "# Describing dataframe from the data\n",
    "df=pd.DataFrame(boston.data,columns=boston.feature_names)"
   ]
  },
  {
   "cell_type": "code",
   "execution_count": 14,
   "id": "e4137336",
   "metadata": {
    "execution": {
     "iopub.execute_input": "2021-12-22T19:07:40.633471Z",
     "iopub.status.busy": "2021-12-22T19:07:40.632500Z",
     "iopub.status.idle": "2021-12-22T19:07:40.657106Z",
     "shell.execute_reply": "2021-12-22T19:07:40.657590Z"
    },
    "papermill": {
     "duration": 0.067285,
     "end_time": "2021-12-22T19:07:40.657773",
     "exception": false,
     "start_time": "2021-12-22T19:07:40.590488",
     "status": "completed"
    },
    "tags": []
   },
   "outputs": [
    {
     "data": {
      "text/html": [
       "<div>\n",
       "<style scoped>\n",
       "    .dataframe tbody tr th:only-of-type {\n",
       "        vertical-align: middle;\n",
       "    }\n",
       "\n",
       "    .dataframe tbody tr th {\n",
       "        vertical-align: top;\n",
       "    }\n",
       "\n",
       "    .dataframe thead th {\n",
       "        text-align: right;\n",
       "    }\n",
       "</style>\n",
       "<table border=\"1\" class=\"dataframe\">\n",
       "  <thead>\n",
       "    <tr style=\"text-align: right;\">\n",
       "      <th></th>\n",
       "      <th>CRIM</th>\n",
       "      <th>ZN</th>\n",
       "      <th>INDUS</th>\n",
       "      <th>CHAS</th>\n",
       "      <th>NOX</th>\n",
       "      <th>RM</th>\n",
       "      <th>AGE</th>\n",
       "      <th>DIS</th>\n",
       "      <th>RAD</th>\n",
       "      <th>TAX</th>\n",
       "      <th>PTRATIO</th>\n",
       "      <th>B</th>\n",
       "      <th>LSTAT</th>\n",
       "    </tr>\n",
       "  </thead>\n",
       "  <tbody>\n",
       "    <tr>\n",
       "      <th>0</th>\n",
       "      <td>0.00632</td>\n",
       "      <td>18.0</td>\n",
       "      <td>2.31</td>\n",
       "      <td>0.0</td>\n",
       "      <td>0.538</td>\n",
       "      <td>6.575</td>\n",
       "      <td>65.2</td>\n",
       "      <td>4.0900</td>\n",
       "      <td>1.0</td>\n",
       "      <td>296.0</td>\n",
       "      <td>15.3</td>\n",
       "      <td>396.9</td>\n",
       "      <td>4.98</td>\n",
       "    </tr>\n",
       "    <tr>\n",
       "      <th>1</th>\n",
       "      <td>0.02731</td>\n",
       "      <td>0.0</td>\n",
       "      <td>7.07</td>\n",
       "      <td>0.0</td>\n",
       "      <td>0.469</td>\n",
       "      <td>6.421</td>\n",
       "      <td>78.9</td>\n",
       "      <td>4.9671</td>\n",
       "      <td>2.0</td>\n",
       "      <td>242.0</td>\n",
       "      <td>17.8</td>\n",
       "      <td>396.9</td>\n",
       "      <td>9.14</td>\n",
       "    </tr>\n",
       "  </tbody>\n",
       "</table>\n",
       "</div>"
      ],
      "text/plain": [
       "      CRIM    ZN  INDUS  CHAS    NOX     RM   AGE     DIS  RAD    TAX  \\\n",
       "0  0.00632  18.0   2.31   0.0  0.538  6.575  65.2  4.0900  1.0  296.0   \n",
       "1  0.02731   0.0   7.07   0.0  0.469  6.421  78.9  4.9671  2.0  242.0   \n",
       "\n",
       "   PTRATIO      B  LSTAT  \n",
       "0     15.3  396.9   4.98  \n",
       "1     17.8  396.9   9.14  "
      ]
     },
     "execution_count": 14,
     "metadata": {},
     "output_type": "execute_result"
    }
   ],
   "source": [
    "# Printing first 2 rows of the dataframe 'df'\n",
    "df.head(2)"
   ]
  },
  {
   "cell_type": "code",
   "execution_count": 15,
   "id": "941a7867",
   "metadata": {
    "execution": {
     "iopub.execute_input": "2021-12-22T19:07:40.746594Z",
     "iopub.status.busy": "2021-12-22T19:07:40.741140Z",
     "iopub.status.idle": "2021-12-22T19:07:40.749244Z",
     "shell.execute_reply": "2021-12-22T19:07:40.749813Z"
    },
    "papermill": {
     "duration": 0.052214,
     "end_time": "2021-12-22T19:07:40.749987",
     "exception": false,
     "start_time": "2021-12-22T19:07:40.697773",
     "status": "completed"
    },
    "tags": []
   },
   "outputs": [],
   "source": [
    "# adding a new column 'target' from boston.target\n",
    "df['target']=boston.target"
   ]
  },
  {
   "cell_type": "code",
   "execution_count": 16,
   "id": "313f6168",
   "metadata": {
    "execution": {
     "iopub.execute_input": "2021-12-22T19:07:40.835505Z",
     "iopub.status.busy": "2021-12-22T19:07:40.834548Z",
     "iopub.status.idle": "2021-12-22T19:07:40.852884Z",
     "shell.execute_reply": "2021-12-22T19:07:40.852218Z"
    },
    "papermill": {
     "duration": 0.062957,
     "end_time": "2021-12-22T19:07:40.853023",
     "exception": false,
     "start_time": "2021-12-22T19:07:40.790066",
     "status": "completed"
    },
    "tags": []
   },
   "outputs": [
    {
     "data": {
      "text/html": [
       "<div>\n",
       "<style scoped>\n",
       "    .dataframe tbody tr th:only-of-type {\n",
       "        vertical-align: middle;\n",
       "    }\n",
       "\n",
       "    .dataframe tbody tr th {\n",
       "        vertical-align: top;\n",
       "    }\n",
       "\n",
       "    .dataframe thead th {\n",
       "        text-align: right;\n",
       "    }\n",
       "</style>\n",
       "<table border=\"1\" class=\"dataframe\">\n",
       "  <thead>\n",
       "    <tr style=\"text-align: right;\">\n",
       "      <th></th>\n",
       "      <th>CRIM</th>\n",
       "      <th>ZN</th>\n",
       "      <th>INDUS</th>\n",
       "      <th>CHAS</th>\n",
       "      <th>NOX</th>\n",
       "      <th>RM</th>\n",
       "      <th>AGE</th>\n",
       "      <th>DIS</th>\n",
       "      <th>RAD</th>\n",
       "      <th>TAX</th>\n",
       "      <th>PTRATIO</th>\n",
       "      <th>B</th>\n",
       "      <th>LSTAT</th>\n",
       "      <th>target</th>\n",
       "    </tr>\n",
       "  </thead>\n",
       "  <tbody>\n",
       "    <tr>\n",
       "      <th>0</th>\n",
       "      <td>0.00632</td>\n",
       "      <td>18.0</td>\n",
       "      <td>2.31</td>\n",
       "      <td>0.0</td>\n",
       "      <td>0.538</td>\n",
       "      <td>6.575</td>\n",
       "      <td>65.2</td>\n",
       "      <td>4.0900</td>\n",
       "      <td>1.0</td>\n",
       "      <td>296.0</td>\n",
       "      <td>15.3</td>\n",
       "      <td>396.9</td>\n",
       "      <td>4.98</td>\n",
       "      <td>24.0</td>\n",
       "    </tr>\n",
       "    <tr>\n",
       "      <th>1</th>\n",
       "      <td>0.02731</td>\n",
       "      <td>0.0</td>\n",
       "      <td>7.07</td>\n",
       "      <td>0.0</td>\n",
       "      <td>0.469</td>\n",
       "      <td>6.421</td>\n",
       "      <td>78.9</td>\n",
       "      <td>4.9671</td>\n",
       "      <td>2.0</td>\n",
       "      <td>242.0</td>\n",
       "      <td>17.8</td>\n",
       "      <td>396.9</td>\n",
       "      <td>9.14</td>\n",
       "      <td>21.6</td>\n",
       "    </tr>\n",
       "  </tbody>\n",
       "</table>\n",
       "</div>"
      ],
      "text/plain": [
       "      CRIM    ZN  INDUS  CHAS    NOX     RM   AGE     DIS  RAD    TAX  \\\n",
       "0  0.00632  18.0   2.31   0.0  0.538  6.575  65.2  4.0900  1.0  296.0   \n",
       "1  0.02731   0.0   7.07   0.0  0.469  6.421  78.9  4.9671  2.0  242.0   \n",
       "\n",
       "   PTRATIO      B  LSTAT  target  \n",
       "0     15.3  396.9   4.98    24.0  \n",
       "1     17.8  396.9   9.14    21.6  "
      ]
     },
     "execution_count": 16,
     "metadata": {},
     "output_type": "execute_result"
    }
   ],
   "source": [
    "df.head(2)"
   ]
  },
  {
   "cell_type": "code",
   "execution_count": 17,
   "id": "be488e24",
   "metadata": {
    "execution": {
     "iopub.execute_input": "2021-12-22T19:07:40.957263Z",
     "iopub.status.busy": "2021-12-22T19:07:40.956587Z",
     "iopub.status.idle": "2021-12-22T19:07:40.959429Z",
     "shell.execute_reply": "2021-12-22T19:07:40.960162Z"
    },
    "papermill": {
     "duration": 0.065797,
     "end_time": "2021-12-22T19:07:40.960381",
     "exception": false,
     "start_time": "2021-12-22T19:07:40.894584",
     "status": "completed"
    },
    "tags": []
   },
   "outputs": [
    {
     "name": "stdout",
     "output_type": "stream",
     "text": [
      "<class 'pandas.core.frame.DataFrame'>\n",
      "RangeIndex: 506 entries, 0 to 505\n",
      "Data columns (total 14 columns):\n",
      " #   Column   Non-Null Count  Dtype  \n",
      "---  ------   --------------  -----  \n",
      " 0   CRIM     506 non-null    float64\n",
      " 1   ZN       506 non-null    float64\n",
      " 2   INDUS    506 non-null    float64\n",
      " 3   CHAS     506 non-null    float64\n",
      " 4   NOX      506 non-null    float64\n",
      " 5   RM       506 non-null    float64\n",
      " 6   AGE      506 non-null    float64\n",
      " 7   DIS      506 non-null    float64\n",
      " 8   RAD      506 non-null    float64\n",
      " 9   TAX      506 non-null    float64\n",
      " 10  PTRATIO  506 non-null    float64\n",
      " 11  B        506 non-null    float64\n",
      " 12  LSTAT    506 non-null    float64\n",
      " 13  target   506 non-null    float64\n",
      "dtypes: float64(14)\n",
      "memory usage: 55.5 KB\n"
     ]
    }
   ],
   "source": [
    "# Printing consized summary about the dataset\n",
    "df.info()"
   ]
  },
  {
   "cell_type": "markdown",
   "id": "550c0ff9",
   "metadata": {
    "papermill": {
     "duration": 0.04135,
     "end_time": "2021-12-22T19:07:41.044965",
     "exception": false,
     "start_time": "2021-12-22T19:07:41.003615",
     "status": "completed"
    },
    "tags": []
   },
   "source": [
    "- we have 13 independent variable and one dependent (House price) variable"
   ]
  },
  {
   "cell_type": "code",
   "execution_count": 18,
   "id": "5c923e03",
   "metadata": {
    "execution": {
     "iopub.execute_input": "2021-12-22T19:07:41.135908Z",
     "iopub.status.busy": "2021-12-22T19:07:41.135229Z",
     "iopub.status.idle": "2021-12-22T19:07:41.137601Z",
     "shell.execute_reply": "2021-12-22T19:07:41.138114Z"
    },
    "papermill": {
     "duration": 0.050966,
     "end_time": "2021-12-22T19:07:41.138293",
     "exception": false,
     "start_time": "2021-12-22T19:07:41.087327",
     "status": "completed"
    },
    "tags": []
   },
   "outputs": [],
   "source": [
    "X=df.iloc[:,:-1].values\n",
    "y=df.iloc[:,-1].values"
   ]
  },
  {
   "cell_type": "code",
   "execution_count": 19,
   "id": "0dd9ce88",
   "metadata": {
    "execution": {
     "iopub.execute_input": "2021-12-22T19:07:41.224776Z",
     "iopub.status.busy": "2021-12-22T19:07:41.224113Z",
     "iopub.status.idle": "2021-12-22T19:07:41.275596Z",
     "shell.execute_reply": "2021-12-22T19:07:41.275042Z"
    },
    "papermill": {
     "duration": 0.095782,
     "end_time": "2021-12-22T19:07:41.275750",
     "exception": false,
     "start_time": "2021-12-22T19:07:41.179968",
     "status": "completed"
    },
    "tags": []
   },
   "outputs": [],
   "source": [
    "from sklearn.model_selection import train_test_split"
   ]
  },
  {
   "cell_type": "code",
   "execution_count": 20,
   "id": "1126063d",
   "metadata": {
    "execution": {
     "iopub.execute_input": "2021-12-22T19:07:41.361843Z",
     "iopub.status.busy": "2021-12-22T19:07:41.361257Z",
     "iopub.status.idle": "2021-12-22T19:07:41.366540Z",
     "shell.execute_reply": "2021-12-22T19:07:41.367029Z"
    },
    "papermill": {
     "duration": 0.05011,
     "end_time": "2021-12-22T19:07:41.367189",
     "exception": false,
     "start_time": "2021-12-22T19:07:41.317079",
     "status": "completed"
    },
    "tags": []
   },
   "outputs": [],
   "source": [
    "X_train,X_test,y_train,y_test=train_test_split(X,y,test_size=0.25)"
   ]
  },
  {
   "cell_type": "code",
   "execution_count": 21,
   "id": "1a913510",
   "metadata": {
    "execution": {
     "iopub.execute_input": "2021-12-22T19:07:41.455019Z",
     "iopub.status.busy": "2021-12-22T19:07:41.454401Z",
     "iopub.status.idle": "2021-12-22T19:07:41.459162Z",
     "shell.execute_reply": "2021-12-22T19:07:41.459617Z"
    },
    "papermill": {
     "duration": 0.051016,
     "end_time": "2021-12-22T19:07:41.459791",
     "exception": false,
     "start_time": "2021-12-22T19:07:41.408775",
     "status": "completed"
    },
    "tags": []
   },
   "outputs": [
    {
     "name": "stdout",
     "output_type": "stream",
     "text": [
      "(379, 13) (379,)\n"
     ]
    }
   ],
   "source": [
    "print(X_train.shape,y_train.shape)"
   ]
  },
  {
   "cell_type": "code",
   "execution_count": 22,
   "id": "821c4385",
   "metadata": {
    "execution": {
     "iopub.execute_input": "2021-12-22T19:07:41.547471Z",
     "iopub.status.busy": "2021-12-22T19:07:41.546860Z",
     "iopub.status.idle": "2021-12-22T19:07:41.552895Z",
     "shell.execute_reply": "2021-12-22T19:07:41.552335Z"
    },
    "papermill": {
     "duration": 0.05103,
     "end_time": "2021-12-22T19:07:41.553036",
     "exception": false,
     "start_time": "2021-12-22T19:07:41.502006",
     "status": "completed"
    },
    "tags": []
   },
   "outputs": [
    {
     "name": "stdout",
     "output_type": "stream",
     "text": [
      "(127, 13) (127,)\n"
     ]
    }
   ],
   "source": [
    "print(X_test.shape,y_test.shape)"
   ]
  },
  {
   "cell_type": "code",
   "execution_count": 23,
   "id": "e1df2e09",
   "metadata": {
    "execution": {
     "iopub.execute_input": "2021-12-22T19:07:41.643135Z",
     "iopub.status.busy": "2021-12-22T19:07:41.642472Z",
     "iopub.status.idle": "2021-12-22T19:07:41.720937Z",
     "shell.execute_reply": "2021-12-22T19:07:41.720254Z"
    },
    "papermill": {
     "duration": 0.125329,
     "end_time": "2021-12-22T19:07:41.721071",
     "exception": false,
     "start_time": "2021-12-22T19:07:41.595742",
     "status": "completed"
    },
    "tags": []
   },
   "outputs": [],
   "source": [
    "# now we will start training of the model on multiple regression\n",
    "from sklearn.linear_model import LinearRegression\n",
    "lr=LinearRegression()"
   ]
  },
  {
   "cell_type": "code",
   "execution_count": 24,
   "id": "0cf58a86",
   "metadata": {
    "execution": {
     "iopub.execute_input": "2021-12-22T19:07:41.811926Z",
     "iopub.status.busy": "2021-12-22T19:07:41.811262Z",
     "iopub.status.idle": "2021-12-22T19:07:41.832465Z",
     "shell.execute_reply": "2021-12-22T19:07:41.831844Z"
    },
    "papermill": {
     "duration": 0.06874,
     "end_time": "2021-12-22T19:07:41.832601",
     "exception": false,
     "start_time": "2021-12-22T19:07:41.763861",
     "status": "completed"
    },
    "tags": []
   },
   "outputs": [
    {
     "data": {
      "text/plain": [
       "LinearRegression()"
      ]
     },
     "execution_count": 24,
     "metadata": {},
     "output_type": "execute_result"
    }
   ],
   "source": [
    "lr.fit(X_train, y_train)"
   ]
  },
  {
   "cell_type": "code",
   "execution_count": 25,
   "id": "9d2d414a",
   "metadata": {
    "execution": {
     "iopub.execute_input": "2021-12-22T19:07:41.924444Z",
     "iopub.status.busy": "2021-12-22T19:07:41.922358Z",
     "iopub.status.idle": "2021-12-22T19:07:41.927036Z",
     "shell.execute_reply": "2021-12-22T19:07:41.926431Z"
    },
    "papermill": {
     "duration": 0.051007,
     "end_time": "2021-12-22T19:07:41.927167",
     "exception": false,
     "start_time": "2021-12-22T19:07:41.876160",
     "status": "completed"
    },
    "tags": []
   },
   "outputs": [],
   "source": [
    "lr_pred=lr.predict(X_test)"
   ]
  },
  {
   "cell_type": "code",
   "execution_count": 26,
   "id": "ea2fddf5",
   "metadata": {
    "execution": {
     "iopub.execute_input": "2021-12-22T19:07:42.021312Z",
     "iopub.status.busy": "2021-12-22T19:07:42.020599Z",
     "iopub.status.idle": "2021-12-22T19:07:42.024191Z",
     "shell.execute_reply": "2021-12-22T19:07:42.024795Z"
    },
    "papermill": {
     "duration": 0.053355,
     "end_time": "2021-12-22T19:07:42.024956",
     "exception": false,
     "start_time": "2021-12-22T19:07:41.971601",
     "status": "completed"
    },
    "tags": []
   },
   "outputs": [
    {
     "data": {
      "text/plain": [
       "19.73771080470582"
      ]
     },
     "execution_count": 26,
     "metadata": {},
     "output_type": "execute_result"
    }
   ],
   "source": [
    "# calculation mean squared error\n",
    "mse=np.mean((lr_pred-y_test)**2)\n",
    "mse"
   ]
  },
  {
   "cell_type": "code",
   "execution_count": 27,
   "id": "393d46ab",
   "metadata": {
    "execution": {
     "iopub.execute_input": "2021-12-22T19:07:42.116953Z",
     "iopub.status.busy": "2021-12-22T19:07:42.116337Z",
     "iopub.status.idle": "2021-12-22T19:07:42.126336Z",
     "shell.execute_reply": "2021-12-22T19:07:42.126853Z"
    },
    "papermill": {
     "duration": 0.058001,
     "end_time": "2021-12-22T19:07:42.127035",
     "exception": false,
     "start_time": "2021-12-22T19:07:42.069034",
     "status": "completed"
    },
    "tags": []
   },
   "outputs": [
    {
     "name": "stdout",
     "output_type": "stream",
     "text": [
      "    Columns  Coefficient Values\n",
      "0      CRIM           -0.066498\n",
      "1        ZN            0.053051\n",
      "2     INDUS            0.041127\n",
      "3      CHAS            3.502430\n",
      "4       NOX          -18.380600\n",
      "5        RM            3.456135\n",
      "6       AGE            0.012149\n",
      "7       DIS           -1.543379\n",
      "8       RAD            0.296151\n",
      "9       TAX           -0.012449\n",
      "10  PTRATIO           -0.890911\n",
      "11        B            0.011632\n",
      "12    LSTAT           -0.606322\n",
      "13   target                 NaN\n"
     ]
    }
   ],
   "source": [
    "# Putting together the coefficient and their columns\n",
    "\n",
    "lr_coeff=pd.DataFrame()\n",
    "lr_coeff['Columns']=df.columns\n",
    "lr_coeff['Coefficient Values']=pd.Series(lr.coef_)\n",
    "\n",
    "print(lr_coeff)"
   ]
  },
  {
   "cell_type": "markdown",
   "id": "749d3787",
   "metadata": {
    "papermill": {
     "duration": 0.044005,
     "end_time": "2021-12-22T19:07:42.215203",
     "exception": false,
     "start_time": "2021-12-22T19:07:42.171198",
     "status": "completed"
    },
    "tags": []
   },
   "source": [
    "- We can see that most of the columns do not significant coefficients and hence they do not contribute much in model performance,\n",
    "- we need to regularize the model"
   ]
  },
  {
   "cell_type": "code",
   "execution_count": 28,
   "id": "2cc429b5",
   "metadata": {
    "execution": {
     "iopub.execute_input": "2021-12-22T19:07:42.308891Z",
     "iopub.status.busy": "2021-12-22T19:07:42.308216Z",
     "iopub.status.idle": "2021-12-22T19:07:42.310474Z",
     "shell.execute_reply": "2021-12-22T19:07:42.311006Z"
    },
    "papermill": {
     "duration": 0.051247,
     "end_time": "2021-12-22T19:07:42.311167",
     "exception": false,
     "start_time": "2021-12-22T19:07:42.259920",
     "status": "completed"
    },
    "tags": []
   },
   "outputs": [],
   "source": [
    "# Regularizing using ridge regression\n",
    "from sklearn.linear_model import Ridge"
   ]
  },
  {
   "cell_type": "code",
   "execution_count": 29,
   "id": "4ffa3dfc",
   "metadata": {
    "execution": {
     "iopub.execute_input": "2021-12-22T19:07:42.403533Z",
     "iopub.status.busy": "2021-12-22T19:07:42.402930Z",
     "iopub.status.idle": "2021-12-22T19:07:42.405692Z",
     "shell.execute_reply": "2021-12-22T19:07:42.406297Z"
    },
    "papermill": {
     "duration": 0.050914,
     "end_time": "2021-12-22T19:07:42.406456",
     "exception": false,
     "start_time": "2021-12-22T19:07:42.355542",
     "status": "completed"
    },
    "tags": []
   },
   "outputs": [],
   "source": [
    "ridge_reg=Ridge(alpha=1)\n",
    "# here alpha parameter indicates Regularization strength; it must be a positive floating number"
   ]
  },
  {
   "cell_type": "code",
   "execution_count": 30,
   "id": "a4b5a566",
   "metadata": {
    "execution": {
     "iopub.execute_input": "2021-12-22T19:07:42.498921Z",
     "iopub.status.busy": "2021-12-22T19:07:42.498315Z",
     "iopub.status.idle": "2021-12-22T19:07:42.508619Z",
     "shell.execute_reply": "2021-12-22T19:07:42.509115Z"
    },
    "papermill": {
     "duration": 0.058383,
     "end_time": "2021-12-22T19:07:42.509276",
     "exception": false,
     "start_time": "2021-12-22T19:07:42.450893",
     "status": "completed"
    },
    "tags": []
   },
   "outputs": [
    {
     "data": {
      "text/plain": [
       "Ridge(alpha=1)"
      ]
     },
     "execution_count": 30,
     "metadata": {},
     "output_type": "execute_result"
    }
   ],
   "source": [
    "ridge_reg.fit(X_train,y_train)"
   ]
  },
  {
   "cell_type": "code",
   "execution_count": 31,
   "id": "e42249cc",
   "metadata": {
    "execution": {
     "iopub.execute_input": "2021-12-22T19:07:42.602566Z",
     "iopub.status.busy": "2021-12-22T19:07:42.601969Z",
     "iopub.status.idle": "2021-12-22T19:07:42.605585Z",
     "shell.execute_reply": "2021-12-22T19:07:42.606182Z"
    },
    "papermill": {
     "duration": 0.052095,
     "end_time": "2021-12-22T19:07:42.606354",
     "exception": false,
     "start_time": "2021-12-22T19:07:42.554259",
     "status": "completed"
    },
    "tags": []
   },
   "outputs": [],
   "source": [
    "y_pred=ridge_reg.predict(X_test)"
   ]
  },
  {
   "cell_type": "code",
   "execution_count": 32,
   "id": "07b3d94d",
   "metadata": {
    "execution": {
     "iopub.execute_input": "2021-12-22T19:07:42.701798Z",
     "iopub.status.busy": "2021-12-22T19:07:42.701151Z",
     "iopub.status.idle": "2021-12-22T19:07:42.711342Z",
     "shell.execute_reply": "2021-12-22T19:07:42.711796Z"
    },
    "papermill": {
     "duration": 0.059316,
     "end_time": "2021-12-22T19:07:42.711960",
     "exception": false,
     "start_time": "2021-12-22T19:07:42.652644",
     "status": "completed"
    },
    "tags": []
   },
   "outputs": [
    {
     "name": "stdout",
     "output_type": "stream",
     "text": [
      "    columns  Coefficient estimates\n",
      "0      CRIM              -0.059764\n",
      "1        ZN               0.053677\n",
      "2     INDUS               0.004674\n",
      "3      CHAS               3.309944\n",
      "4       NOX              -9.918291\n",
      "5        RM               3.558169\n",
      "6       AGE               0.003945\n",
      "7       DIS              -1.419434\n",
      "8       RAD               0.273208\n",
      "9       TAX              -0.012888\n",
      "10  PTRATIO              -0.790406\n",
      "11        B               0.012675\n",
      "12    LSTAT              -0.614542\n",
      "13   target                    NaN\n"
     ]
    }
   ],
   "source": [
    "ridge_coeff=pd.DataFrame()\n",
    "ridge_coeff['columns']=df.columns\n",
    "ridge_coeff['Coefficient estimates']=pd.Series(ridge_reg.coef_)\n",
    "print(ridge_coeff)"
   ]
  },
  {
   "cell_type": "markdown",
   "id": "c0c94de5",
   "metadata": {
    "papermill": {
     "duration": 0.046599,
     "end_time": "2021-12-22T19:07:42.804542",
     "exception": false,
     "start_time": "2021-12-22T19:07:42.757943",
     "status": "completed"
    },
    "tags": []
   },
   "source": [
    "- As we can observe from the above plots that alpha helps in regularizing the coefficient and make them converge faster. \n",
    "- it shows some of the coefficients become zero. In Ridge Regularization, the coefficients can never be 0, they are just too small to observe in above plots. "
   ]
  },
  {
   "cell_type": "markdown",
   "id": "2547f3b9",
   "metadata": {
    "papermill": {
     "duration": 0.045682,
     "end_time": "2021-12-22T19:07:42.896858",
     "exception": false,
     "start_time": "2021-12-22T19:07:42.851176",
     "status": "completed"
    },
    "tags": []
   },
   "source": [
    "### Implementation of lasso regression using sklearn"
   ]
  },
  {
   "cell_type": "markdown",
   "id": "66b93314",
   "metadata": {
    "papermill": {
     "duration": 0.045735,
     "end_time": "2021-12-22T19:07:42.988699",
     "exception": false,
     "start_time": "2021-12-22T19:07:42.942964",
     "status": "completed"
    },
    "tags": []
   },
   "source": [
    "- we add Mean Absolute value of coefficients in place of mean square value\n",
    "- Unlike Ridge Regression, Lasso regression can completely eliminate the variable by reducing its coefficient value to 0."
   ]
  },
  {
   "cell_type": "code",
   "execution_count": 33,
   "id": "3b51c8d7",
   "metadata": {
    "execution": {
     "iopub.execute_input": "2021-12-22T19:07:43.084868Z",
     "iopub.status.busy": "2021-12-22T19:07:43.084217Z",
     "iopub.status.idle": "2021-12-22T19:07:43.088349Z",
     "shell.execute_reply": "2021-12-22T19:07:43.087847Z"
    },
    "papermill": {
     "duration": 0.054006,
     "end_time": "2021-12-22T19:07:43.088502",
     "exception": false,
     "start_time": "2021-12-22T19:07:43.034496",
     "status": "completed"
    },
    "tags": []
   },
   "outputs": [],
   "source": [
    "from sklearn.linear_model import Lasso\n",
    "lasso=Lasso(alpha=1)"
   ]
  },
  {
   "cell_type": "code",
   "execution_count": 34,
   "id": "00805f88",
   "metadata": {
    "execution": {
     "iopub.execute_input": "2021-12-22T19:07:43.183361Z",
     "iopub.status.busy": "2021-12-22T19:07:43.182730Z",
     "iopub.status.idle": "2021-12-22T19:07:43.190670Z",
     "shell.execute_reply": "2021-12-22T19:07:43.191217Z"
    },
    "papermill": {
     "duration": 0.057067,
     "end_time": "2021-12-22T19:07:43.191394",
     "exception": false,
     "start_time": "2021-12-22T19:07:43.134327",
     "status": "completed"
    },
    "tags": []
   },
   "outputs": [],
   "source": [
    "lasso.fit(X_train,y_train)\n",
    "y_pred1=lasso.predict(X_test)"
   ]
  },
  {
   "cell_type": "code",
   "execution_count": 35,
   "id": "816b5ade",
   "metadata": {
    "execution": {
     "iopub.execute_input": "2021-12-22T19:07:43.286534Z",
     "iopub.status.busy": "2021-12-22T19:07:43.285930Z",
     "iopub.status.idle": "2021-12-22T19:07:43.289250Z",
     "shell.execute_reply": "2021-12-22T19:07:43.289839Z"
    },
    "papermill": {
     "duration": 0.052542,
     "end_time": "2021-12-22T19:07:43.290000",
     "exception": false,
     "start_time": "2021-12-22T19:07:43.237458",
     "status": "completed"
    },
    "tags": []
   },
   "outputs": [],
   "source": [
    "lasso_mse=np.mean((y_pred1-y_test)**2)"
   ]
  },
  {
   "cell_type": "code",
   "execution_count": 36,
   "id": "b275aa1f",
   "metadata": {
    "execution": {
     "iopub.execute_input": "2021-12-22T19:07:43.385343Z",
     "iopub.status.busy": "2021-12-22T19:07:43.384744Z",
     "iopub.status.idle": "2021-12-22T19:07:43.389077Z",
     "shell.execute_reply": "2021-12-22T19:07:43.389546Z"
    },
    "papermill": {
     "duration": 0.053477,
     "end_time": "2021-12-22T19:07:43.389750",
     "exception": false,
     "start_time": "2021-12-22T19:07:43.336273",
     "status": "completed"
    },
    "tags": []
   },
   "outputs": [
    {
     "name": "stdout",
     "output_type": "stream",
     "text": [
      "25.283708842642042\n"
     ]
    }
   ],
   "source": [
    "print(lasso_mse)"
   ]
  },
  {
   "cell_type": "code",
   "execution_count": 37,
   "id": "ac5b3180",
   "metadata": {
    "execution": {
     "iopub.execute_input": "2021-12-22T19:07:43.487451Z",
     "iopub.status.busy": "2021-12-22T19:07:43.486800Z",
     "iopub.status.idle": "2021-12-22T19:07:43.493024Z",
     "shell.execute_reply": "2021-12-22T19:07:43.493570Z"
    },
    "papermill": {
     "duration": 0.056385,
     "end_time": "2021-12-22T19:07:43.493760",
     "exception": false,
     "start_time": "2021-12-22T19:07:43.437375",
     "status": "completed"
    },
    "tags": []
   },
   "outputs": [],
   "source": [
    "lasso_coef=pd.DataFrame()\n",
    "lasso_coef['columns']=df.columns\n",
    "lasso_coef['coeffienct values']=pd.Series(lasso.coef_)"
   ]
  },
  {
   "cell_type": "code",
   "execution_count": 38,
   "id": "322c1e1a",
   "metadata": {
    "execution": {
     "iopub.execute_input": "2021-12-22T19:07:43.591109Z",
     "iopub.status.busy": "2021-12-22T19:07:43.590431Z",
     "iopub.status.idle": "2021-12-22T19:07:43.599134Z",
     "shell.execute_reply": "2021-12-22T19:07:43.599675Z"
    },
    "papermill": {
     "duration": 0.058995,
     "end_time": "2021-12-22T19:07:43.599844",
     "exception": false,
     "start_time": "2021-12-22T19:07:43.540849",
     "status": "completed"
    },
    "tags": []
   },
   "outputs": [
    {
     "data": {
      "text/html": [
       "<div>\n",
       "<style scoped>\n",
       "    .dataframe tbody tr th:only-of-type {\n",
       "        vertical-align: middle;\n",
       "    }\n",
       "\n",
       "    .dataframe tbody tr th {\n",
       "        vertical-align: top;\n",
       "    }\n",
       "\n",
       "    .dataframe thead th {\n",
       "        text-align: right;\n",
       "    }\n",
       "</style>\n",
       "<table border=\"1\" class=\"dataframe\">\n",
       "  <thead>\n",
       "    <tr style=\"text-align: right;\">\n",
       "      <th></th>\n",
       "      <th>columns</th>\n",
       "      <th>coeffienct values</th>\n",
       "    </tr>\n",
       "  </thead>\n",
       "  <tbody>\n",
       "    <tr>\n",
       "      <th>0</th>\n",
       "      <td>CRIM</td>\n",
       "      <td>-0.000000</td>\n",
       "    </tr>\n",
       "    <tr>\n",
       "      <th>1</th>\n",
       "      <td>ZN</td>\n",
       "      <td>0.052337</td>\n",
       "    </tr>\n",
       "    <tr>\n",
       "      <th>2</th>\n",
       "      <td>INDUS</td>\n",
       "      <td>-0.000000</td>\n",
       "    </tr>\n",
       "    <tr>\n",
       "      <th>3</th>\n",
       "      <td>CHAS</td>\n",
       "      <td>0.000000</td>\n",
       "    </tr>\n",
       "    <tr>\n",
       "      <th>4</th>\n",
       "      <td>NOX</td>\n",
       "      <td>-0.000000</td>\n",
       "    </tr>\n",
       "    <tr>\n",
       "      <th>5</th>\n",
       "      <td>RM</td>\n",
       "      <td>0.905588</td>\n",
       "    </tr>\n",
       "    <tr>\n",
       "      <th>6</th>\n",
       "      <td>AGE</td>\n",
       "      <td>0.030446</td>\n",
       "    </tr>\n",
       "    <tr>\n",
       "      <th>7</th>\n",
       "      <td>DIS</td>\n",
       "      <td>-0.743750</td>\n",
       "    </tr>\n",
       "    <tr>\n",
       "      <th>8</th>\n",
       "      <td>RAD</td>\n",
       "      <td>0.219849</td>\n",
       "    </tr>\n",
       "    <tr>\n",
       "      <th>9</th>\n",
       "      <td>TAX</td>\n",
       "      <td>-0.014176</td>\n",
       "    </tr>\n",
       "    <tr>\n",
       "      <th>10</th>\n",
       "      <td>PTRATIO</td>\n",
       "      <td>-0.601588</td>\n",
       "    </tr>\n",
       "    <tr>\n",
       "      <th>11</th>\n",
       "      <td>B</td>\n",
       "      <td>0.011533</td>\n",
       "    </tr>\n",
       "    <tr>\n",
       "      <th>12</th>\n",
       "      <td>LSTAT</td>\n",
       "      <td>-0.831386</td>\n",
       "    </tr>\n",
       "    <tr>\n",
       "      <th>13</th>\n",
       "      <td>target</td>\n",
       "      <td>NaN</td>\n",
       "    </tr>\n",
       "  </tbody>\n",
       "</table>\n",
       "</div>"
      ],
      "text/plain": [
       "    columns  coeffienct values\n",
       "0      CRIM          -0.000000\n",
       "1        ZN           0.052337\n",
       "2     INDUS          -0.000000\n",
       "3      CHAS           0.000000\n",
       "4       NOX          -0.000000\n",
       "5        RM           0.905588\n",
       "6       AGE           0.030446\n",
       "7       DIS          -0.743750\n",
       "8       RAD           0.219849\n",
       "9       TAX          -0.014176\n",
       "10  PTRATIO          -0.601588\n",
       "11        B           0.011533\n",
       "12    LSTAT          -0.831386\n",
       "13   target                NaN"
      ]
     },
     "execution_count": 38,
     "metadata": {},
     "output_type": "execute_result"
    }
   ],
   "source": [
    "lasso_coef"
   ]
  },
  {
   "cell_type": "code",
   "execution_count": 39,
   "id": "50658745",
   "metadata": {
    "execution": {
     "iopub.execute_input": "2021-12-22T19:07:43.697914Z",
     "iopub.status.busy": "2021-12-22T19:07:43.697194Z",
     "iopub.status.idle": "2021-12-22T19:07:43.701581Z",
     "shell.execute_reply": "2021-12-22T19:07:43.702185Z"
    },
    "papermill": {
     "duration": 0.054965,
     "end_time": "2021-12-22T19:07:43.702345",
     "exception": false,
     "start_time": "2021-12-22T19:07:43.647380",
     "status": "completed"
    },
    "tags": []
   },
   "outputs": [
    {
     "data": {
      "text/plain": [
       "pandas.core.frame.DataFrame"
      ]
     },
     "execution_count": 39,
     "metadata": {},
     "output_type": "execute_result"
    }
   ],
   "source": [
    "type(lasso_coef)"
   ]
  },
  {
   "cell_type": "markdown",
   "id": "5108bea9",
   "metadata": {
    "papermill": {
     "duration": 0.047194,
     "end_time": "2021-12-22T19:07:43.797052",
     "exception": false,
     "start_time": "2021-12-22T19:07:43.749858",
     "status": "completed"
    },
    "tags": []
   },
   "source": [
    "### Python implementation of Elastic Net "
   ]
  },
  {
   "cell_type": "code",
   "execution_count": 40,
   "id": "f9e0ea19",
   "metadata": {
    "execution": {
     "iopub.execute_input": "2021-12-22T19:07:43.896026Z",
     "iopub.status.busy": "2021-12-22T19:07:43.895359Z",
     "iopub.status.idle": "2021-12-22T19:07:43.898529Z",
     "shell.execute_reply": "2021-12-22T19:07:43.899059Z"
    },
    "papermill": {
     "duration": 0.05412,
     "end_time": "2021-12-22T19:07:43.899277",
     "exception": false,
     "start_time": "2021-12-22T19:07:43.845157",
     "status": "completed"
    },
    "tags": []
   },
   "outputs": [],
   "source": [
    "from sklearn.linear_model import ElasticNet\n",
    "elastic=ElasticNet(alpha=1)"
   ]
  },
  {
   "cell_type": "code",
   "execution_count": 41,
   "id": "514ea47a",
   "metadata": {
    "execution": {
     "iopub.execute_input": "2021-12-22T19:07:43.998460Z",
     "iopub.status.busy": "2021-12-22T19:07:43.997850Z",
     "iopub.status.idle": "2021-12-22T19:07:44.004364Z",
     "shell.execute_reply": "2021-12-22T19:07:44.004936Z"
    },
    "papermill": {
     "duration": 0.057813,
     "end_time": "2021-12-22T19:07:44.005105",
     "exception": false,
     "start_time": "2021-12-22T19:07:43.947292",
     "status": "completed"
    },
    "tags": []
   },
   "outputs": [
    {
     "data": {
      "text/plain": [
       "ElasticNet(alpha=1)"
      ]
     },
     "execution_count": 41,
     "metadata": {},
     "output_type": "execute_result"
    }
   ],
   "source": [
    "elastic.fit(X_train,y_train)"
   ]
  },
  {
   "cell_type": "code",
   "execution_count": 42,
   "id": "6ca049fb",
   "metadata": {
    "execution": {
     "iopub.execute_input": "2021-12-22T19:07:44.105947Z",
     "iopub.status.busy": "2021-12-22T19:07:44.105288Z",
     "iopub.status.idle": "2021-12-22T19:07:44.108773Z",
     "shell.execute_reply": "2021-12-22T19:07:44.109289Z"
    },
    "papermill": {
     "duration": 0.055931,
     "end_time": "2021-12-22T19:07:44.109453",
     "exception": false,
     "start_time": "2021-12-22T19:07:44.053522",
     "status": "completed"
    },
    "tags": []
   },
   "outputs": [],
   "source": [
    "y_pred2=elastic.predict(X_test)"
   ]
  },
  {
   "cell_type": "code",
   "execution_count": 43,
   "id": "40aeee4e",
   "metadata": {
    "execution": {
     "iopub.execute_input": "2021-12-22T19:07:44.209854Z",
     "iopub.status.busy": "2021-12-22T19:07:44.209204Z",
     "iopub.status.idle": "2021-12-22T19:07:44.214732Z",
     "shell.execute_reply": "2021-12-22T19:07:44.214113Z"
    },
    "papermill": {
     "duration": 0.056737,
     "end_time": "2021-12-22T19:07:44.214870",
     "exception": false,
     "start_time": "2021-12-22T19:07:44.158133",
     "status": "completed"
    },
    "tags": []
   },
   "outputs": [
    {
     "name": "stdout",
     "output_type": "stream",
     "text": [
      "24.422988143894155\n"
     ]
    }
   ],
   "source": [
    "elastic_mse=np.mean((y_pred2-y_test)**2)\n",
    "# Here for reminding, mean squared error is the mean of sqaure of diffrence in y_predicted and y_test\n",
    "\n",
    "print(elastic_mse)"
   ]
  },
  {
   "cell_type": "code",
   "execution_count": 44,
   "id": "76811e85",
   "metadata": {
    "execution": {
     "iopub.execute_input": "2021-12-22T19:07:44.316624Z",
     "iopub.status.busy": "2021-12-22T19:07:44.315981Z",
     "iopub.status.idle": "2021-12-22T19:07:44.325120Z",
     "shell.execute_reply": "2021-12-22T19:07:44.325614Z"
    },
    "papermill": {
     "duration": 0.061949,
     "end_time": "2021-12-22T19:07:44.325803",
     "exception": false,
     "start_time": "2021-12-22T19:07:44.263854",
     "status": "completed"
    },
    "tags": []
   },
   "outputs": [
    {
     "name": "stdout",
     "output_type": "stream",
     "text": [
      "    columns  coeff values\n",
      "0      CRIM     -0.022867\n",
      "1        ZN      0.055481\n",
      "2     INDUS     -0.000000\n",
      "3      CHAS      0.000000\n",
      "4       NOX     -0.000000\n",
      "5        RM      0.926176\n",
      "6       AGE      0.029873\n",
      "7       DIS     -0.802898\n",
      "8       RAD      0.261508\n",
      "9       TAX     -0.015532\n",
      "10  PTRATIO     -0.648044\n",
      "11        B      0.011629\n",
      "12    LSTAT     -0.823327\n",
      "13   target           NaN\n"
     ]
    }
   ],
   "source": [
    "# making dataframe of column wise coefficient of elasticnet\n",
    "\n",
    "elastic_coeff=pd.DataFrame()\n",
    "elastic_coeff['columns']=df.columns\n",
    "elastic_coeff['coeff values']=pd.Series(elastic.coef_)\n",
    "\n",
    "print(elastic_coeff)"
   ]
  },
  {
   "cell_type": "code",
   "execution_count": 45,
   "id": "c45c3e50",
   "metadata": {
    "execution": {
     "iopub.execute_input": "2021-12-22T19:07:44.428261Z",
     "iopub.status.busy": "2021-12-22T19:07:44.427600Z",
     "iopub.status.idle": "2021-12-22T19:07:44.431913Z",
     "shell.execute_reply": "2021-12-22T19:07:44.432475Z"
    },
    "papermill": {
     "duration": 0.057216,
     "end_time": "2021-12-22T19:07:44.432632",
     "exception": false,
     "start_time": "2021-12-22T19:07:44.375416",
     "status": "completed"
    },
    "tags": []
   },
   "outputs": [
    {
     "data": {
      "text/plain": [
       "pandas.core.frame.DataFrame"
      ]
     },
     "execution_count": 45,
     "metadata": {},
     "output_type": "execute_result"
    }
   ],
   "source": [
    "type(elastic_coeff)"
   ]
  },
  {
   "cell_type": "markdown",
   "id": "365d0b90",
   "metadata": {
    "papermill": {
     "duration": 0.049713,
     "end_time": "2021-12-22T19:07:44.532152",
     "exception": false,
     "start_time": "2021-12-22T19:07:44.482439",
     "status": "completed"
    },
    "tags": []
   },
   "source": [
    "- Elastic Net is a combination of both of the above regularization. It contains both the L1 and L2 as its penalty term. \n",
    "- It performs better than Ridge and Lasso Regression for most of the test cases"
   ]
  }
 ],
 "metadata": {
  "kernelspec": {
   "display_name": "Python 3 (ipykernel)",
   "language": "python",
   "name": "python3"
  },
  "language_info": {
   "codemirror_mode": {
    "name": "ipython",
    "version": 3
   },
   "file_extension": ".py",
   "mimetype": "text/x-python",
   "name": "python",
   "nbconvert_exporter": "python",
   "pygments_lexer": "ipython3",
   "version": "3.9.7"
  },
  "papermill": {
   "default_parameters": {},
   "duration": 17.062862,
   "end_time": "2021-12-22T19:07:45.291877",
   "environment_variables": {},
   "exception": null,
   "input_path": "__notebook__.ipynb",
   "output_path": "__notebook__.ipynb",
   "parameters": {},
   "start_time": "2021-12-22T19:07:28.229015",
   "version": "2.3.3"
  }
 },
 "nbformat": 4,
 "nbformat_minor": 5
}
