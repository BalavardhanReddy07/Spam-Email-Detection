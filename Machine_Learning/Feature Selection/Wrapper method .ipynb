{
 "cells": [
  {
   "cell_type": "markdown",
   "id": "9b15f1ec",
   "metadata": {},
   "source": [
    "<h3><div style=\"font-family: Trebuchet MS; background-color:#176BA0;; color: #FFFFFF; padding: 10px; line-height: 1.5;\">1. | Importing Nassary Liberarys 🌟 📚</div></h3>"
   ]
  },
  {
   "cell_type": "code",
   "execution_count": 5,
   "id": "1e09463d",
   "metadata": {},
   "outputs": [],
   "source": [
    "import numpy as np\n",
    "from sklearn.datasets import load_breast_cancer\n",
    "from sklearn.model_selection import train_test_split\n",
    "from sklearn.ensemble import RandomForestClassifier\n",
    "from sklearn.feature_selection import RFE\n",
    "from sklearn.metrics import accuracy_score"
   ]
  },
  {
   "cell_type": "markdown",
   "id": "82180422",
   "metadata": {},
   "source": [
    "    \n",
    "<h10><div style=\"font-family: Trebuchet MS; background-color:Green; color: #FFFFFF; padding: 15px; line-height: 1.;\">Loading seed dataset  📈:</div></h10>"
   ]
  },
  {
   "cell_type": "code",
   "execution_count": 6,
   "id": "34dc6a7c",
   "metadata": {},
   "outputs": [],
   "source": [
    "# Set seed for reproducibility\n",
    "seed = 42\n",
    "np.random.seed(seed)\n",
    "\n",
    "# Load the Breast Cancer dataset\n",
    "cancer = load_breast_cancer()\n",
    "X = cancer.data\n",
    "y = cancer.target"
   ]
  },
  {
   "cell_type": "markdown",
   "id": "3f999bc5",
   "metadata": {},
   "source": [
    "    \n",
    "<h10><div style=\"font-family: Trebuchet MS; background-color:Green; color: #FFFFFF; padding: 15px; line-height: 1.;\">Split the dataset into training and testing sets as a 20% as a Test and 80% as a Train  :</div></h10>"
   ]
  },
  {
   "cell_type": "code",
   "execution_count": 11,
   "id": "1ce7b251",
   "metadata": {},
   "outputs": [],
   "source": [
    "\n",
    "# Split the dataset into training and testing sets\n",
    "X_train, X_test, y_train, y_test = train_test_split(X, y, test_size=0.2, random_state=seed)"
   ]
  },
  {
   "cell_type": "markdown",
   "id": "9d80703c",
   "metadata": {},
   "source": [
    "    \n",
    "<h10><div style=\"font-family: Trebuchet MS; background-color:Green; color: #FFFFFF; padding: 15px; line-height: 1.;\">Wrapper method using Recursive Feature Elimination (RFE) :</div></h10>"
   ]
  },
  {
   "cell_type": "code",
   "execution_count": 15,
   "id": "43327b06",
   "metadata": {},
   "outputs": [],
   "source": [
    "\n",
    "\n",
    "\n",
    "# Wrapper method using Recursive Feature Elimination (RFE) with RandomForestClassifier\n",
    "def wrapper_method_rfe(X_train, X_test, y_train, estimator, num_features, method):\n",
    "    model = estimator\n",
    "    if method == \"Forward\":\n",
    "        selector = RFE(model, n_features_to_select=num_features, step=1)\n",
    "        selector.fit(X_train, y_train)\n",
    "    elif method == \"Backward\":\n",
    "        selector = RFE(model, n_features_to_select=num_features, step=1)\n",
    "        selector.fit(X_train, y_train)\n",
    "        # Since RFE performs backward elimination by default, we need to reverse the selected indices for backward elimination\n",
    "        selected_indices = np.flip(np.where(selector.support_)[0])\n",
    "        X_train_selected = selector.transform(X_train)\n",
    "        X_test_selected = selector.transform(X_test)\n",
    "    else:\n",
    "        raise ValueError(\"Invalid method specified\")\n",
    "\n",
    "    if method != \"Backward\":\n",
    "        X_train_selected = selector.transform(X_train)\n",
    "        X_test_selected = selector.transform(X_test)\n",
    "        selected_indices = np.where(selector.support_)[0]"
   ]
  },
  {
   "cell_type": "markdown",
   "id": "5202b583",
   "metadata": {},
   "source": [
    "    \n",
    "<h10><div style=\"font-family: Trebuchet MS; background-color:Green; color: #FFFFFF; padding: 15px; line-height: 1.;\">Wrapper method using Recursive Feature Elimination (RFE) :</div></h10>"
   ]
  },
  {
   "cell_type": "code",
   "execution_count": 19,
   "id": "fe96f1d4",
   "metadata": {},
   "outputs": [],
   "source": [
    "\n",
    "# Wrapper method using Recursive Feature Elimination (RFE) with RandomForestClassifier\n",
    "def wrapper_method_rfe(X_train, X_test, y_train, estimator, num_features, method):\n",
    "    model = estimator\n",
    "    if method == \"Forward\":\n",
    "        selector = RFE(model, n_features_to_select=num_features, step=1)\n",
    "        selector.fit(X_train, y_train)\n",
    "    elif method == \"Backward\":\n",
    "        selector = RFE(model, n_features_to_select=num_features, step=1)\n",
    "        selector.fit(X_train, y_train)\n",
    "        # Since RFE performs backward elimination by default, we need to reverse the selected indices for backward elimination\n",
    "        selected_indices = np.flip(np.where(selector.support_)[0])\n",
    "        X_train_selected = selector.transform(X_train)\n",
    "        X_test_selected = selector.transform(X_test)\n",
    "    else:\n",
    "        raise ValueError(\"Invalid method specified\")\n",
    "\n",
    "    if method != \"Backward\":\n",
    "        X_train_selected = selector.transform(X_train)\n",
    "        X_test_selected = selector.transform(X_test)\n",
    "        selected_indices = np.where(selector.support_)[0]\n",
    "\n",
    "    # Print results\n",
    "    print(f\"\\nWrapper Method with RFE ({method})\")\n",
    "    print(f\"Selected Features (RFE): {selected_indices}\")\n",
    "    print(f\"Number of Features Selected (RFE): {len(selected_indices)}\")\n",
    "\n",
    "    return X_train_selected, X_test_selected\n",
    "\n"
   ]
  },
  {
   "cell_type": "markdown",
   "id": "3ab76798",
   "metadata": {},
   "source": [
    "    \n",
    "<h10><div style=\"font-family: Trebuchet MS; background-color:Green; color: #FFFFFF; padding: 15px; line-height: 1.;\">Wrapper method using RFE (Forward Selection) And Backword  :</div></h10>"
   ]
  },
  {
   "cell_type": "code",
   "execution_count": 20,
   "id": "be46adab",
   "metadata": {},
   "outputs": [
    {
     "name": "stdout",
     "output_type": "stream",
     "text": [
      "\n",
      "Wrapper Method with RFE (Forward)\n",
      "Selected Features (RFE): [ 1  2  6  7 20 21 22 23 26 27]\n",
      "Number of Features Selected (RFE): 10\n",
      "Accuracy (RFE): 0.9649\n",
      "\n",
      "Wrapper Method with RFE (Backward)\n",
      "Selected Features (RFE): [27 26 23 22 21 20  7  6  2  1]\n",
      "Number of Features Selected (RFE): 10\n",
      "Accuracy (RFE): 0.9649\n"
     ]
    }
   ],
   "source": [
    "# Function to train and evaluate a model\n",
    "def train_and_evaluate(X_train, X_test, y_train, y_test):\n",
    "    model = RandomForestClassifier(random_state=seed)\n",
    "    model.fit(X_train, y_train)\n",
    "    y_pred = model.predict(X_test)\n",
    "    accuracy = accuracy_score(y_test, y_pred)\n",
    "\n",
    "    # Print accuracy\n",
    "    print(f\"Accuracy (RFE): {accuracy:.4f}\")\n",
    "\n",
    "    return accuracy\n",
    "\n",
    "# Wrapper method using RFE (Forward Selection)\n",
    "num_features_rfe_forward = 10\n",
    "X_train_rfe_forward, X_test_rfe_forward = wrapper_method_rfe(\n",
    "    X_train, X_test, y_train, RandomForestClassifier(random_state=seed),\n",
    "    num_features_rfe_forward, \"Forward\"\n",
    ")\n",
    "accuracy_rfe_forward = train_and_evaluate(X_train_rfe_forward, X_test_rfe_forward, y_train, y_test)\n",
    "\n",
    "# Wrapper method using RFE (Backward Elimination)\n",
    "num_features_rfe_backward = 10\n",
    "X_train_rfe_backward, X_test_rfe_backward = wrapper_method_rfe(\n",
    "    X_train, X_test, y_train, RandomForestClassifier(random_state=seed),\n",
    "    num_features_rfe_backward, \"Backward\"\n",
    ")\n",
    "accuracy_rfe_backward = train_and_evaluate(X_train_rfe_backward, X_test_rfe_backward, y_train, y_test)\n"
   ]
  },
  {
   "cell_type": "code",
   "execution_count": null,
   "id": "52de39a0",
   "metadata": {},
   "outputs": [],
   "source": []
  }
 ],
 "metadata": {
  "kernelspec": {
   "display_name": "Python 3 (ipykernel)",
   "language": "python",
   "name": "python3"
  },
  "language_info": {
   "codemirror_mode": {
    "name": "ipython",
    "version": 3
   },
   "file_extension": ".py",
   "mimetype": "text/x-python",
   "name": "python",
   "nbconvert_exporter": "python",
   "pygments_lexer": "ipython3",
   "version": "3.9.7"
  }
 },
 "nbformat": 4,
 "nbformat_minor": 5
}
