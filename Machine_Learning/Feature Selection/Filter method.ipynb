{
 "cells": [
  {
   "cell_type": "markdown",
   "id": "880546ed",
   "metadata": {},
   "source": [
    "<h2><div style=\"font-family: Trebuchet MS; background-color: red; color: #FFFFFF; padding: 12px; line-height: 1.5;\"> Filter Method</div> "
   ]
  },
  {
   "cell_type": "markdown",
   "id": "200dfba8",
   "metadata": {},
   "source": [
    "<h10><div style=\"font-family: Trebuchet MS; background-color:Black; color: #FFFFFF; padding: 15px; line-height: 1.;\">Importing Nassary Liberarys 📈:</div></h10>"
   ]
  },
  {
   "cell_type": "code",
   "execution_count": 13,
   "id": "645a17c6",
   "metadata": {},
   "outputs": [],
   "source": [
    "\n",
    "import numpy as np\n",
    "from sklearn.datasets import load_breast_cancer\n",
    "from sklearn.model_selection import train_test_split\n",
    "from sklearn.feature_selection import SelectKBest, f_classif, VarianceThreshold\n",
    "from sklearn.ensemble import RandomForestClassifier\n",
    "from sklearn.metrics import accuracy_score"
   ]
  },
  {
   "cell_type": "markdown",
   "id": "1445759e",
   "metadata": {},
   "source": [
    "    \n",
    "<h10><div style=\"font-family: Trebuchet MS; background-color:Black; color: #FFFFFF; padding: 15px; line-height: 1.;\">Loading seed dataset  📈:</div></h10>"
   ]
  },
  {
   "cell_type": "code",
   "execution_count": 14,
   "id": "a5251b89",
   "metadata": {},
   "outputs": [],
   "source": [
    "# Set seed for reproducibility\n",
    "seed = 42\n",
    "np.random.seed(seed)\n",
    "\n",
    "# Load the Breast Cancer dataset\n",
    "cancer = load_breast_cancer()\n",
    "X = cancer.data\n",
    "y = cancer.target"
   ]
  },
  {
   "cell_type": "markdown",
   "id": "da8dd7d2",
   "metadata": {},
   "source": [
    "    \n",
    "<h10><div style=\"font-family: Trebuchet MS; background-color:Black; color: #FFFFFF; padding: 15px; line-height: 1.;\">Split the dataset into training and testing sets as a 20% as a Test and 80% as a Train  :</div></h10>"
   ]
  },
  {
   "cell_type": "code",
   "execution_count": 15,
   "id": "4817be16",
   "metadata": {},
   "outputs": [],
   "source": [
    "# Split the dataset into training and testing sets\n",
    "X_train, X_test, y_train, y_test = train_test_split(X, y, test_size=0.2, random_state=seed)"
   ]
  },
  {
   "cell_type": "markdown",
   "id": "329de26e",
   "metadata": {},
   "source": [
    "<h10><div style=\"font-family: Trebuchet MS; background-color:Black; color: #FFFFFF; padding: 15px; line-height: 1.;\">Filter method with ANOVA</div></h10>"
   ]
  },
  {
   "cell_type": "code",
   "execution_count": 16,
   "id": "2046d2f3",
   "metadata": {},
   "outputs": [],
   "source": [
    "# Filter method with ANOVA\n",
    "k_best_features = 10\n",
    "anova_selector = SelectKBest(f_classif, k=k_best_features)\n",
    "X_train_anova = anova_selector.fit_transform(X_train, y_train)\n",
    "X_test_anova = anova_selector.transform(X_test)"
   ]
  },
  {
   "cell_type": "markdown",
   "id": "8632271b",
   "metadata": {},
   "source": [
    "<h10><div style=\"font-family: Trebuchet MS; background-color:Black; color: #FFFFFF; padding: 15px; line-height: 1.;\">Filter method with Variance Threshold</div></h10>"
   ]
  },
  {
   "cell_type": "code",
   "execution_count": 17,
   "id": "a38a24ca",
   "metadata": {},
   "outputs": [],
   "source": [
    "# Filter method with Variance Threshold\n",
    "variance_threshold_value = 0.01\n",
    "variance_selector = VarianceThreshold(threshold=variance_threshold_value)\n",
    "X_train_filtered = variance_selector.fit_transform(X_train_anova)\n",
    "X_test_filtered = variance_selector.transform(X_test_anova)\n"
   ]
  },
  {
   "cell_type": "markdown",
   "id": "573f43a2",
   "metadata": {},
   "source": [
    "<h10><div style=\"font-family: Trebuchet MS; background-color:Black; color: #FFFFFF; padding: 15px; line-height: 1.;\">Function to train and evaluate a model</div></h10>"
   ]
  },
  {
   "cell_type": "code",
   "execution_count": 18,
   "id": "6b3e9548",
   "metadata": {},
   "outputs": [],
   "source": [
    "# Function to train and evaluate a model\n",
    "def train_and_evaluate(X_train, X_test, y_train, y_test):\n",
    "    model = RandomForestClassifier(random_state=seed)\n",
    "    model.fit(X_train, y_train)\n",
    "    y_pred = model.predict(X_test)\n",
    "    accuracy = accuracy_score(y_test, y_pred)\n",
    "    return accuracy\n",
    "\n",
    "# Train and evaluate the model with ANOVA and Variance Threshold\n",
    "accuracy_anova = train_and_evaluate(X_train_anova, X_test_anova, y_train, y_test)\n",
    "accuracy_variance = train_and_evaluate(X_train_filtered, X_test_filtered, y_train, y_test)\n",
    "\n",
    "# Get selected feature indices\n",
    "selected_indices_variance = np.where(variance_selector.get_support())[0]"
   ]
  },
  {
   "cell_type": "code",
   "execution_count": 19,
   "id": "96ac34ec",
   "metadata": {},
   "outputs": [
    {
     "name": "stdout",
     "output_type": "stream",
     "text": [
      "\n",
      "Filter Method with ANOVA\n",
      "Number of Features Selected (ANOVA): 10\n",
      "Selected Feature Indices (ANOVA): [ 0  2  3  6  7 20 22 23 26 27]\n",
      "Selected Feature Names (ANOVA): ['mean radius' 'mean perimeter' 'mean area' 'mean concavity'\n",
      " 'mean concave points' 'worst radius' 'worst perimeter' 'worst area'\n",
      " 'worst concavity' 'worst concave points']\n",
      "Accuracy (ANOVA): 0.9561\n",
      "\n",
      "Filter Method with Variance Threshold\n",
      "Number of Features Selected (Variance Threshold): 7\n",
      "Selected Feature Indices (Variance Threshold): [0 1 2 5 6 7 8]\n",
      "Selected Feature Names (Variance Threshold): ['mean radius' 'mean texture' 'mean perimeter' 'mean compactness'\n",
      " 'mean concavity' 'mean concave points' 'mean symmetry']\n",
      "Accuracy (Variance Threshold): 0.9737\n"
     ]
    }
   ],
   "source": [
    "# Print results\n",
    "print(\"\\nFilter Method with ANOVA\")\n",
    "print(f\"Number of Features Selected (ANOVA): {k_best_features}\")\n",
    "print(f\"Selected Feature Indices (ANOVA): {np.where(anova_selector.get_support())[0]}\")\n",
    "print(f\"Selected Feature Names (ANOVA): {cancer.feature_names[anova_selector.get_support()]}\")\n",
    "print(f\"Accuracy (ANOVA): {accuracy_anova:.4f}\")\n",
    "\n",
    "print(\"\\nFilter Method with Variance Threshold\")\n",
    "print(f\"Number of Features Selected (Variance Threshold): {len(selected_indices_variance)}\")\n",
    "print(f\"Selected Feature Indices (Variance Threshold): {selected_indices_variance}\")\n",
    "print(f\"Selected Feature Names (Variance Threshold): {cancer.feature_names[selected_indices_variance]}\")\n",
    "print(f\"Accuracy (Variance Threshold): {accuracy_variance:.4f}\")\n"
   ]
  },
  {
   "cell_type": "code",
   "execution_count": null,
   "id": "4403d6f9",
   "metadata": {},
   "outputs": [],
   "source": []
  },
  {
   "cell_type": "code",
   "execution_count": null,
   "id": "fad55cab",
   "metadata": {},
   "outputs": [],
   "source": []
  }
 ],
 "metadata": {
  "kernelspec": {
   "display_name": "Python 3 (ipykernel)",
   "language": "python",
   "name": "python3"
  },
  "language_info": {
   "codemirror_mode": {
    "name": "ipython",
    "version": 3
   },
   "file_extension": ".py",
   "mimetype": "text/x-python",
   "name": "python",
   "nbconvert_exporter": "python",
   "pygments_lexer": "ipython3",
   "version": "3.9.7"
  }
 },
 "nbformat": 4,
 "nbformat_minor": 5
}
