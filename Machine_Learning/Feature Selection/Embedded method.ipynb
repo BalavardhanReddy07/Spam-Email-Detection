{
 "cells": [
  {
   "cell_type": "markdown",
   "id": "921d9e05",
   "metadata": {},
   "source": [
    "<h6><div style=\"font-family: Trebuchet MS; background-color: #1b191d; color: #FFFFFF; padding: 12px; font-size: 35px; line-height: 1.5;text-align: center; line-height: 1.;\">Embedded method\n",
    "-➖📝</div> </h6>"
   ]
  },
  {
   "cell_type": "markdown",
   "id": "5b983074",
   "metadata": {},
   "source": [
    "    \n",
    "<h10><div style=\"font-family: Trebuchet MS; background-color:orange; color: #FFFFFF; padding: 10px; line-height: 1.;\">Importing Nassary Liberarys 📈:</div></h10>"
   ]
  },
  {
   "cell_type": "code",
   "execution_count": 5,
   "id": "e7e6b63c",
   "metadata": {},
   "outputs": [],
   "source": [
    "import numpy as np\n",
    "from sklearn.datasets import load_breast_cancer\n",
    "from sklearn.model_selection import train_test_split\n",
    "from sklearn.linear_model import LogisticRegression\n",
    "from sklearn.metrics import accuracy_score"
   ]
  },
  {
   "cell_type": "markdown",
   "id": "a4a9b75c",
   "metadata": {},
   "source": [
    "    \n",
    "<h10><div style=\"font-family: Trebuchet MS; background-color:orange; color: #FFFFFF; padding: 10px; line-height: 1.;\">Loading seed dataset  📈:</div></h10>"
   ]
  },
  {
   "cell_type": "code",
   "execution_count": 6,
   "id": "19efbfb2",
   "metadata": {},
   "outputs": [],
   "source": [
    "# Set seed for reproducibility\n",
    "seed = 42\n",
    "np.random.seed(seed)\n",
    "\n",
    "# Load the Breast Cancer dataset\n",
    "cancer = load_breast_cancer()\n",
    "X = cancer.data\n",
    "y = cancer.target"
   ]
  },
  {
   "cell_type": "markdown",
   "id": "e043d5b1",
   "metadata": {},
   "source": [
    "    \n",
    "<h10><div style=\"font-family: Trebuchet MS; background-color:orange; color: #FFFFFF; padding: 10px; line-height: 1.;\">Split the dataset into training and testing sets as a 20% as a Test and 80% as a Train  :</div></h10>"
   ]
  },
  {
   "cell_type": "code",
   "execution_count": 7,
   "id": "461f5655",
   "metadata": {},
   "outputs": [],
   "source": [
    "# Split the dataset into training and testing sets\n",
    "X_train, X_test, y_train, y_test = train_test_split(X, y, test_size=0.2, random_state=seed)"
   ]
  },
  {
   "cell_type": "code",
   "execution_count": 8,
   "id": "20de70b8",
   "metadata": {},
   "outputs": [
    {
     "name": "stderr",
     "output_type": "stream",
     "text": [
      "C:\\Users\\LENOVO\\anaconda3\\lib\\site-packages\\sklearn\\svm\\_base.py:985: ConvergenceWarning: Liblinear failed to converge, increase the number of iterations.\n",
      "  warnings.warn(\"Liblinear failed to converge, increase \"\n"
     ]
    }
   ],
   "source": [
    "# Embedded method with LASSO (Logistic Regression with L1 regularization)\n",
    "lasso_model = LogisticRegression(penalty='l1', solver='liblinear', random_state=seed)\n",
    "lasso_model.fit(X_train, y_train)\n",
    "\n",
    "# Extract selected features and their coefficients\n",
    "selected_indices_lasso = np.where(lasso_model.coef_[0] != 0)[0]\n",
    "selected_features_lasso = cancer.feature_names[selected_indices_lasso]\n",
    "coefficients_lasso = lasso_model.coef_[0, selected_indices_lasso]"
   ]
  },
  {
   "cell_type": "markdown",
   "id": "c9d4246f",
   "metadata": {},
   "source": [
    "    \n",
    "<h10><div style=\"font-family: Trebuchet MS; background-color:orange; color: #FFFFFF; padding: 10px; line-height: 1.;\">Selecting Features using Embedded Method as L1</div></h10>"
   ]
  },
  {
   "cell_type": "code",
   "execution_count": 9,
   "id": "fa025ee2",
   "metadata": {},
   "outputs": [
    {
     "name": "stdout",
     "output_type": "stream",
     "text": [
      "\n",
      "Embedded Method with LASSO (Logistic Regression with L1 regularization)\n",
      "Selected Features (LASSO): ['mean radius' 'mean texture' 'mean perimeter' 'mean area' 'texture error'\n",
      " 'area error' 'worst radius' 'worst texture' 'worst perimeter'\n",
      " 'worst area' 'worst concavity']\n",
      "Coefficients (LASSO): [ 4.25893726  0.13813487 -0.2624774  -0.01633754  1.69950795 -0.09940568\n",
      "  0.04768624 -0.42417917 -0.02965423 -0.01518975 -3.63866352]\n",
      "Accuracy (LASSO): 0.9561\n"
     ]
    },
    {
     "name": "stderr",
     "output_type": "stream",
     "text": [
      "C:\\Users\\LENOVO\\anaconda3\\lib\\site-packages\\sklearn\\svm\\_base.py:985: ConvergenceWarning: Liblinear failed to converge, increase the number of iterations.\n",
      "  warnings.warn(\"Liblinear failed to converge, increase \"\n"
     ]
    }
   ],
   "source": [
    "\n",
    "# Function to train and evaluate a model\n",
    "def train_and_evaluate(X_train, X_test, y_train, y_test):\n",
    "    model = LogisticRegression(penalty='l1', solver='liblinear', random_state=seed)\n",
    "    model.fit(X_train, y_train)\n",
    "    y_pred = model.predict(X_test)\n",
    "    accuracy = accuracy_score(y_test, y_pred)\n",
    "    return model, accuracy\n",
    "\n",
    "# Train and evaluate the model with selected features\n",
    "lasso_model, accuracy_lasso = train_and_evaluate(X_train[:, selected_indices_lasso], X_test[:, selected_indices_lasso], y_train, y_test)\n",
    "\n",
    "# Print results\n",
    "print(\"\\nEmbedded Method with LASSO (Logistic Regression with L1 regularization)\")\n",
    "print(f\"Selected Features (LASSO): {selected_features_lasso}\")\n",
    "print(f\"Coefficients (LASSO): {coefficients_lasso}\")\n",
    "print(f\"Accuracy (LASSO): {accuracy_lasso:.4f}\")\n"
   ]
  },
  {
   "cell_type": "code",
   "execution_count": null,
   "id": "66fb004d",
   "metadata": {},
   "outputs": [],
   "source": []
  },
  {
   "cell_type": "code",
   "execution_count": null,
   "id": "216cbea4",
   "metadata": {},
   "outputs": [],
   "source": []
  }
 ],
 "metadata": {
  "kernelspec": {
   "display_name": "Python 3 (ipykernel)",
   "language": "python",
   "name": "python3"
  },
  "language_info": {
   "codemirror_mode": {
    "name": "ipython",
    "version": 3
   },
   "file_extension": ".py",
   "mimetype": "text/x-python",
   "name": "python",
   "nbconvert_exporter": "python",
   "pygments_lexer": "ipython3",
   "version": "3.9.7"
  }
 },
 "nbformat": 4,
 "nbformat_minor": 5
}
